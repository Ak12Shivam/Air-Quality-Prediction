{
 "cells": [
  {
   "cell_type": "code",
   "execution_count": 75,
   "id": "480cfb0c",
   "metadata": {},
   "outputs": [],
   "source": [
    "# import the required modules"
   ]
  },
  {
   "cell_type": "code",
   "execution_count": 76,
   "id": "51fa944a",
   "metadata": {},
   "outputs": [],
   "source": [
    "import pandas as pd,numpy as np\n",
    "from sklearn.preprocessing import StandardScaler\n",
    "from sklearn.linear_model import LinearRegression\n",
    "from sklearn.svm import SVR\n",
    "from sklearn.ensemble import RandomForestRegressor\n",
    "from sklearn.metrics import mean_squared_error,mean_absolute_error\n",
    "from sklearn.model_selection import train_test_split\n",
    "import warnings\n",
    "warnings.filterwarnings('ignore')"
   ]
  },
  {
   "cell_type": "code",
   "execution_count": 77,
   "id": "88e038e6",
   "metadata": {},
   "outputs": [],
   "source": [
    "# download the dataset from UCI website and load to pandas data frame"
   ]
  },
  {
   "cell_type": "code",
   "execution_count": 78,
   "id": "159b889b",
   "metadata": {},
   "outputs": [],
   "source": [
    "air=pd.read_excel('AirQualityUCI.xlsx')"
   ]
  },
  {
   "cell_type": "code",
   "execution_count": 79,
   "id": "e6ac0f48",
   "metadata": {},
   "outputs": [
    {
     "data": {
      "text/html": [
       "<div>\n",
       "<style scoped>\n",
       "    .dataframe tbody tr th:only-of-type {\n",
       "        vertical-align: middle;\n",
       "    }\n",
       "\n",
       "    .dataframe tbody tr th {\n",
       "        vertical-align: top;\n",
       "    }\n",
       "\n",
       "    .dataframe thead th {\n",
       "        text-align: right;\n",
       "    }\n",
       "</style>\n",
       "<table border=\"1\" class=\"dataframe\">\n",
       "  <thead>\n",
       "    <tr style=\"text-align: right;\">\n",
       "      <th></th>\n",
       "      <th>Date</th>\n",
       "      <th>Time</th>\n",
       "      <th>CO(GT)</th>\n",
       "      <th>PT08.S1(CO)</th>\n",
       "      <th>NMHC(GT)</th>\n",
       "      <th>C6H6(GT)</th>\n",
       "      <th>PT08.S2(NMHC)</th>\n",
       "      <th>NOx(GT)</th>\n",
       "      <th>PT08.S3(NOx)</th>\n",
       "      <th>NO2(GT)</th>\n",
       "      <th>PT08.S4(NO2)</th>\n",
       "      <th>PT08.S5(O3)</th>\n",
       "      <th>T</th>\n",
       "      <th>RH</th>\n",
       "      <th>AH</th>\n",
       "    </tr>\n",
       "  </thead>\n",
       "  <tbody>\n",
       "    <tr>\n",
       "      <th>0</th>\n",
       "      <td>2004-03-10</td>\n",
       "      <td>18:00:00</td>\n",
       "      <td>2.6</td>\n",
       "      <td>1360.00</td>\n",
       "      <td>150</td>\n",
       "      <td>11.881723</td>\n",
       "      <td>1045.50</td>\n",
       "      <td>166.0</td>\n",
       "      <td>1056.25</td>\n",
       "      <td>113.0</td>\n",
       "      <td>1692.00</td>\n",
       "      <td>1267.50</td>\n",
       "      <td>13.60</td>\n",
       "      <td>48.875001</td>\n",
       "      <td>0.757754</td>\n",
       "    </tr>\n",
       "    <tr>\n",
       "      <th>1</th>\n",
       "      <td>2004-03-10</td>\n",
       "      <td>19:00:00</td>\n",
       "      <td>2.0</td>\n",
       "      <td>1292.25</td>\n",
       "      <td>112</td>\n",
       "      <td>9.397165</td>\n",
       "      <td>954.75</td>\n",
       "      <td>103.0</td>\n",
       "      <td>1173.75</td>\n",
       "      <td>92.0</td>\n",
       "      <td>1558.75</td>\n",
       "      <td>972.25</td>\n",
       "      <td>13.30</td>\n",
       "      <td>47.700000</td>\n",
       "      <td>0.725487</td>\n",
       "    </tr>\n",
       "    <tr>\n",
       "      <th>2</th>\n",
       "      <td>2004-03-10</td>\n",
       "      <td>20:00:00</td>\n",
       "      <td>2.2</td>\n",
       "      <td>1402.00</td>\n",
       "      <td>88</td>\n",
       "      <td>8.997817</td>\n",
       "      <td>939.25</td>\n",
       "      <td>131.0</td>\n",
       "      <td>1140.00</td>\n",
       "      <td>114.0</td>\n",
       "      <td>1554.50</td>\n",
       "      <td>1074.00</td>\n",
       "      <td>11.90</td>\n",
       "      <td>53.975000</td>\n",
       "      <td>0.750239</td>\n",
       "    </tr>\n",
       "    <tr>\n",
       "      <th>3</th>\n",
       "      <td>2004-03-10</td>\n",
       "      <td>21:00:00</td>\n",
       "      <td>2.2</td>\n",
       "      <td>1375.50</td>\n",
       "      <td>80</td>\n",
       "      <td>9.228796</td>\n",
       "      <td>948.25</td>\n",
       "      <td>172.0</td>\n",
       "      <td>1092.00</td>\n",
       "      <td>122.0</td>\n",
       "      <td>1583.75</td>\n",
       "      <td>1203.25</td>\n",
       "      <td>11.00</td>\n",
       "      <td>60.000000</td>\n",
       "      <td>0.786713</td>\n",
       "    </tr>\n",
       "    <tr>\n",
       "      <th>4</th>\n",
       "      <td>2004-03-10</td>\n",
       "      <td>22:00:00</td>\n",
       "      <td>1.6</td>\n",
       "      <td>1272.25</td>\n",
       "      <td>51</td>\n",
       "      <td>6.518224</td>\n",
       "      <td>835.50</td>\n",
       "      <td>131.0</td>\n",
       "      <td>1205.00</td>\n",
       "      <td>116.0</td>\n",
       "      <td>1490.00</td>\n",
       "      <td>1110.00</td>\n",
       "      <td>11.15</td>\n",
       "      <td>59.575001</td>\n",
       "      <td>0.788794</td>\n",
       "    </tr>\n",
       "  </tbody>\n",
       "</table>\n",
       "</div>"
      ],
      "text/plain": [
       "        Date      Time  CO(GT)  PT08.S1(CO)  NMHC(GT)   C6H6(GT)  \\\n",
       "0 2004-03-10  18:00:00     2.6      1360.00       150  11.881723   \n",
       "1 2004-03-10  19:00:00     2.0      1292.25       112   9.397165   \n",
       "2 2004-03-10  20:00:00     2.2      1402.00        88   8.997817   \n",
       "3 2004-03-10  21:00:00     2.2      1375.50        80   9.228796   \n",
       "4 2004-03-10  22:00:00     1.6      1272.25        51   6.518224   \n",
       "\n",
       "   PT08.S2(NMHC)  NOx(GT)  PT08.S3(NOx)  NO2(GT)  PT08.S4(NO2)  PT08.S5(O3)  \\\n",
       "0        1045.50    166.0       1056.25    113.0       1692.00      1267.50   \n",
       "1         954.75    103.0       1173.75     92.0       1558.75       972.25   \n",
       "2         939.25    131.0       1140.00    114.0       1554.50      1074.00   \n",
       "3         948.25    172.0       1092.00    122.0       1583.75      1203.25   \n",
       "4         835.50    131.0       1205.00    116.0       1490.00      1110.00   \n",
       "\n",
       "       T         RH        AH  \n",
       "0  13.60  48.875001  0.757754  \n",
       "1  13.30  47.700000  0.725487  \n",
       "2  11.90  53.975000  0.750239  \n",
       "3  11.00  60.000000  0.786713  \n",
       "4  11.15  59.575001  0.788794  "
      ]
     },
     "execution_count": 79,
     "metadata": {},
     "output_type": "execute_result"
    }
   ],
   "source": [
    "air.head()"
   ]
  },
  {
   "cell_type": "code",
   "execution_count": 80,
   "id": "4f6c64bc",
   "metadata": {},
   "outputs": [],
   "source": [
    "# data preparation and cleaning \n",
    "# let check the dimension of the dataframe"
   ]
  },
  {
   "cell_type": "code",
   "execution_count": 81,
   "id": "e30adb78",
   "metadata": {},
   "outputs": [
    {
     "data": {
      "text/plain": [
       "(9357, 15)"
      ]
     },
     "execution_count": 81,
     "metadata": {},
     "output_type": "execute_result"
    }
   ],
   "source": [
    "air.shape"
   ]
  },
  {
   "cell_type": "code",
   "execution_count": 82,
   "id": "b0a4b1fe",
   "metadata": {},
   "outputs": [],
   "source": [
    "# NA values are represented by -200 . replace -200 with NAN"
   ]
  },
  {
   "cell_type": "code",
   "execution_count": 83,
   "id": "8d886468",
   "metadata": {},
   "outputs": [],
   "source": [
    "air=air.replace(-200,np.nan)"
   ]
  },
  {
   "cell_type": "code",
   "execution_count": 84,
   "id": "7da82eb1",
   "metadata": {},
   "outputs": [],
   "source": [
    "# let check the missing values in the dateframe"
   ]
  },
  {
   "cell_type": "code",
   "execution_count": 85,
   "id": "e8d73052",
   "metadata": {},
   "outputs": [
    {
     "data": {
      "text/plain": [
       "Date              0.00\n",
       "Time              0.00\n",
       "CO(GT)           17.99\n",
       "PT08.S1(CO)       3.91\n",
       "NMHC(GT)         90.23\n",
       "C6H6(GT)          3.91\n",
       "PT08.S2(NMHC)     3.91\n",
       "NOx(GT)          17.52\n",
       "PT08.S3(NOx)      3.91\n",
       "NO2(GT)          17.55\n",
       "PT08.S4(NO2)      3.91\n",
       "PT08.S5(O3)       3.91\n",
       "T                 3.91\n",
       "RH                3.91\n",
       "AH                3.91\n",
       "dtype: float64"
      ]
     },
     "execution_count": 85,
     "metadata": {},
     "output_type": "execute_result"
    }
   ],
   "source": [
    "round(100*(air.isnull().sum()/len(air.index)),2)"
   ]
  },
  {
   "cell_type": "code",
   "execution_count": 86,
   "id": "4f24efd8",
   "metadata": {},
   "outputs": [],
   "source": [
    "# will drop the columns having more than 40% NA values"
   ]
  },
  {
   "cell_type": "code",
   "execution_count": 87,
   "id": "a62dd163",
   "metadata": {},
   "outputs": [],
   "source": [
    "air=air.drop(air.loc[:,list(round(100*(air.isnull().sum()/len(air.index)),2)>40)].columns,1)"
   ]
  },
  {
   "cell_type": "code",
   "execution_count": 88,
   "id": "3837d813",
   "metadata": {},
   "outputs": [],
   "source": [
    "# let drop all the rows having NAN values"
   ]
  },
  {
   "cell_type": "code",
   "execution_count": 89,
   "id": "9bd52e52",
   "metadata": {},
   "outputs": [],
   "source": [
    "air=air.dropna()"
   ]
  },
  {
   "cell_type": "code",
   "execution_count": 90,
   "id": "af4ea90a",
   "metadata": {},
   "outputs": [
    {
     "data": {
      "text/plain": [
       "(6941, 14)"
      ]
     },
     "execution_count": 90,
     "metadata": {},
     "output_type": "execute_result"
    }
   ],
   "source": [
    "air.shape"
   ]
  },
  {
   "cell_type": "code",
   "execution_count": 91,
   "id": "e15e78fe",
   "metadata": {},
   "outputs": [
    {
     "name": "stdout",
     "output_type": "stream",
     "text": [
      "<class 'pandas.core.frame.DataFrame'>\n",
      "Int64Index: 6941 entries, 0 to 9356\n",
      "Data columns (total 14 columns):\n",
      " #   Column         Non-Null Count  Dtype         \n",
      "---  ------         --------------  -----         \n",
      " 0   Date           6941 non-null   datetime64[ns]\n",
      " 1   Time           6941 non-null   object        \n",
      " 2   CO(GT)         6941 non-null   float64       \n",
      " 3   PT08.S1(CO)    6941 non-null   float64       \n",
      " 4   C6H6(GT)       6941 non-null   float64       \n",
      " 5   PT08.S2(NMHC)  6941 non-null   float64       \n",
      " 6   NOx(GT)        6941 non-null   float64       \n",
      " 7   PT08.S3(NOx)   6941 non-null   float64       \n",
      " 8   NO2(GT)        6941 non-null   float64       \n",
      " 9   PT08.S4(NO2)   6941 non-null   float64       \n",
      " 10  PT08.S5(O3)    6941 non-null   float64       \n",
      " 11  T              6941 non-null   float64       \n",
      " 12  RH             6941 non-null   float64       \n",
      " 13  AH             6941 non-null   float64       \n",
      "dtypes: datetime64[ns](1), float64(12), object(1)\n",
      "memory usage: 813.4+ KB\n"
     ]
    }
   ],
   "source": [
    "air.info()"
   ]
  },
  {
   "cell_type": "code",
   "execution_count": 92,
   "id": "e76a6dda",
   "metadata": {},
   "outputs": [],
   "source": [
    "# let drop Data and Time"
   ]
  },
  {
   "cell_type": "code",
   "execution_count": 93,
   "id": "4114e40e",
   "metadata": {},
   "outputs": [],
   "source": [
    "air=air.drop(['Date','Time'],axis=1)"
   ]
  },
  {
   "cell_type": "code",
   "execution_count": 94,
   "id": "5a93df4b",
   "metadata": {},
   "outputs": [],
   "source": [
    "# split train dataset into X and Y"
   ]
  },
  {
   "cell_type": "code",
   "execution_count": 95,
   "id": "a99f760a",
   "metadata": {},
   "outputs": [],
   "source": [
    "y=air.pop('RH')"
   ]
  },
  {
   "cell_type": "code",
   "execution_count": 96,
   "id": "9fd23f24",
   "metadata": {},
   "outputs": [],
   "source": [
    "x=air"
   ]
  },
  {
   "cell_type": "code",
   "execution_count": 97,
   "id": "75a9d034",
   "metadata": {},
   "outputs": [],
   "source": [
    "# rescaling and split the data set into train and test\n",
    "# create a scaling object "
   ]
  },
  {
   "cell_type": "code",
   "execution_count": 98,
   "id": "63079b53",
   "metadata": {},
   "outputs": [],
   "source": [
    "scaler=StandardScaler()"
   ]
  },
  {
   "cell_type": "code",
   "execution_count": 99,
   "id": "901e4753",
   "metadata": {},
   "outputs": [],
   "source": [
    "# scale these variable using \"fit_transfrom\""
   ]
  },
  {
   "cell_type": "code",
   "execution_count": 100,
   "id": "97f3d907",
   "metadata": {},
   "outputs": [],
   "source": [
    "xstd=scaler.fit_transform(x)"
   ]
  },
  {
   "cell_type": "code",
   "execution_count": 101,
   "id": "7128e77b",
   "metadata": {},
   "outputs": [],
   "source": [
    "# split the data into train and test with test size and 30% and train size as 70%"
   ]
  },
  {
   "cell_type": "code",
   "execution_count": 102,
   "id": "2713de3b",
   "metadata": {},
   "outputs": [],
   "source": [
    "x_train, x_test, y_train, y_test=train_test_split(xstd,y,test_size=0.3,random_state=100)"
   ]
  },
  {
   "cell_type": "code",
   "execution_count": 103,
   "id": "a35dd117",
   "metadata": {},
   "outputs": [
    {
     "name": "stdout",
     "output_type": "stream",
     "text": [
      "Training data size: (4858, 11)\n"
     ]
    }
   ],
   "source": [
    "print('Training data size:',x_train.shape)"
   ]
  },
  {
   "cell_type": "code",
   "execution_count": 104,
   "id": "f001bf91",
   "metadata": {},
   "outputs": [
    {
     "name": "stdout",
     "output_type": "stream",
     "text": [
      "Test data size: (2083, 11)\n"
     ]
    }
   ],
   "source": [
    "print('Test data size:',x_test.shape)"
   ]
  },
  {
   "cell_type": "code",
   "execution_count": 105,
   "id": "74a7832d",
   "metadata": {},
   "outputs": [],
   "source": [
    "# model buliding \n",
    "# predict using LinearRegression"
   ]
  },
  {
   "cell_type": "code",
   "execution_count": 106,
   "id": "59777f77",
   "metadata": {},
   "outputs": [],
   "source": [
    "lr = LinearRegression()"
   ]
  },
  {
   "cell_type": "code",
   "execution_count": 107,
   "id": "b5bdfd56",
   "metadata": {},
   "outputs": [],
   "source": [
    "lrm = lr.fit(x_train,y_train)"
   ]
  },
  {
   "cell_type": "code",
   "execution_count": 108,
   "id": "f0b540b1",
   "metadata": {},
   "outputs": [],
   "source": [
    "y_pred_lr = lrm.predict(x_test)"
   ]
  },
  {
   "cell_type": "code",
   "execution_count": 109,
   "id": "36365a25",
   "metadata": {},
   "outputs": [
    {
     "name": "stdout",
     "output_type": "stream",
     "text": [
      "RMSE of Linear Regression model: 5.916300662074108\n"
     ]
    }
   ],
   "source": [
    "print('RMSE of Linear Regression model:',np.sqrt(mean_squared_error(y_test,y_pred_lr)))"
   ]
  },
  {
   "cell_type": "code",
   "execution_count": 110,
   "id": "b1085746",
   "metadata": {},
   "outputs": [],
   "source": [
    "# predict using Random Forest Regressor"
   ]
  },
  {
   "cell_type": "code",
   "execution_count": 111,
   "id": "e4c1df0c",
   "metadata": {},
   "outputs": [],
   "source": [
    "rf = RandomForestRegressor()"
   ]
  },
  {
   "cell_type": "code",
   "execution_count": 112,
   "id": "503e3455",
   "metadata": {},
   "outputs": [],
   "source": [
    "rfm = rf.fit(x_train,y_train)"
   ]
  },
  {
   "cell_type": "code",
   "execution_count": 113,
   "id": "ae8104d2",
   "metadata": {},
   "outputs": [],
   "source": [
    "y_pred_rf = rfm.predict(x_test)"
   ]
  },
  {
   "cell_type": "code",
   "execution_count": 114,
   "id": "43e07c71",
   "metadata": {},
   "outputs": [
    {
     "name": "stdout",
     "output_type": "stream",
     "text": [
      "RMSE of Random Forest model: 0.72172343345108\n"
     ]
    }
   ],
   "source": [
    "print('RMSE of Random Forest model:',np.sqrt(mean_squared_error(y_test,y_pred_rf)))"
   ]
  },
  {
   "cell_type": "code",
   "execution_count": 115,
   "id": "ffb42c74",
   "metadata": {},
   "outputs": [],
   "source": [
    "# predict using SV Regressor"
   ]
  },
  {
   "cell_type": "code",
   "execution_count": 116,
   "id": "dd1632ed",
   "metadata": {},
   "outputs": [],
   "source": [
    "svr = SVR()"
   ]
  },
  {
   "cell_type": "code",
   "execution_count": 117,
   "id": "2d5e54bf",
   "metadata": {},
   "outputs": [],
   "source": [
    "svm = svr.fit(x_train,y_train)"
   ]
  },
  {
   "cell_type": "code",
   "execution_count": 118,
   "id": "e385cf45",
   "metadata": {},
   "outputs": [],
   "source": [
    "y_pred_sv = svm.predict(x_test)"
   ]
  },
  {
   "cell_type": "code",
   "execution_count": 119,
   "id": "3d2d6f27",
   "metadata": {},
   "outputs": [
    {
     "name": "stdout",
     "output_type": "stream",
     "text": [
      "RMSE of SVM model: 3.4898461468289943\n"
     ]
    }
   ],
   "source": [
    "print('RMSE of SVM model:',np.sqrt(mean_squared_error(y_test,y_pred_sv)))"
   ]
  },
  {
   "cell_type": "code",
   "execution_count": null,
   "id": "7dedf454",
   "metadata": {},
   "outputs": [],
   "source": [
    "# RMSE is the way of measure of efficiency of the predictive models."
   ]
  }
 ],
 "metadata": {
  "kernelspec": {
   "display_name": "Python 3 (ipykernel)",
   "language": "python",
   "name": "python3"
  },
  "language_info": {
   "codemirror_mode": {
    "name": "ipython",
    "version": 3
   },
   "file_extension": ".py",
   "mimetype": "text/x-python",
   "name": "python",
   "nbconvert_exporter": "python",
   "pygments_lexer": "ipython3",
   "version": "3.11.3"
  }
 },
 "nbformat": 4,
 "nbformat_minor": 5
}
